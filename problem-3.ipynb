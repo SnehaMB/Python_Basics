{
 "cells": [
  {
   "cell_type": "code",
   "execution_count": 15,
   "metadata": {},
   "outputs": [
    {
     "name": "stdout",
     "output_type": "stream",
     "text": [
      "The sum of each row is even.\n",
      "The total sum of all values is a multiple of 5.\n",
      "\n",
      "Generated Array:\n",
      "[[800 460 460 210 170]\n",
      " [760 570 580 370 340]\n",
      " [300 760 980 180 840]\n",
      " [910 950 150 230 430]\n",
      " [110 110 680 530 670]\n",
      " [620 590 520 420 570]\n",
      " [910 950 160 940 260]\n",
      " [190 290 930 670 420]\n",
      " [850 160 110 360 580]\n",
      " [140 890 200 840 950]\n",
      " [650 300 460 470 510]\n",
      " [510 990 750 280 140]\n",
      " [650 220 430 930 550]\n",
      " [850 390 220 680 570]\n",
      " [260 920 770 830 990]\n",
      " [520 350 310 990 930]\n",
      " [660 940 180 750 390]\n",
      " [820 780 550 230 970]\n",
      " [450 360 830 150 290]\n",
      " [280 820 420 790 540]]\n"
     ]
    }
   ],
   "source": [
    "import numpy as np\n",
    "\n",
    "def generate_valid_array(rows=20, cols=5):\n",
    "    array = np.random.randint(10, 101, size=(rows, cols))\n",
    "    \n",
    "    # Ensure each row sum is even\n",
    "    for i in range(rows):\n",
    "        if array[i].sum() % 2 != 0:\n",
    "            array[i, 0] += 1  # Adjust the first element to make the sum even\n",
    "            if array[i, 0] > 100:  # Keep values within the range\n",
    "                array[i, 0] -= 2\n",
    "\n",
    "    # Ensure total sum is a multiple of 5\n",
    "    total_sum = array.sum()\n",
    "    if total_sum % 5 != 0:\n",
    "        adjustment = 5 - (total_sum % 5)\n",
    "        array[0, 0] += adjustment\n",
    "        if array[0, 0] > 100:  # Keep values within the range\n",
    "            array[0, 0] -= 10\n",
    "\n",
    "    return array\n",
    "\n",
    "# Generate and validate the array\n",
    "array = generate_valid_array()\n",
    "print(\"Generated Array:\")\n",
    "print(array)\n",
    "\n",
    "# Validation\n",
    "print(\"\\nRow Sums Even:\", all(row.sum() % 2 == 0 for row in array))\n",
    "print(\"Total Sum Multiple of 5:\", array.sum() % 5 == 0)"
   ]
  },
  {
   "cell_type": "code",
   "execution_count": 16,
   "metadata": {},
   "outputs": [
    {
     "name": "stdout",
     "output_type": "stream",
     "text": [
      "Numbers in array which are divisible by both 3 and 5:\n",
      "[210 570 300 180 840 150 420 570 930 420 360 840 300 510 510 990 750 930\n",
      " 390 570 990 990 930 660 180 750 390 780 450 360 150 420 540]\n"
     ]
    }
   ],
   "source": [
    "\n",
    "numbers = array[(array % 3 == 0) & (array % 5 == 0)]\n",
    "print(\"Numbers in array which are divisible by both 3 and 5:\")\n",
    "print(numbers)"
   ]
  },
  {
   "cell_type": "code",
   "execution_count": 17,
   "metadata": {},
   "outputs": [
    {
     "name": "stdout",
     "output_type": "stream",
     "text": [
      "\n",
      "Array after replacing:\n",
      "[[546 546 546 546 546]\n",
      " [546 546 546 546 546]\n",
      " [546 546 546 546 546]\n",
      " [546 546 546 546 546]\n",
      " [546 546 546 546 546]\n",
      " [546 546 546 546 546]\n",
      " [546 546 546 546 546]\n",
      " [546 546 546 546 546]\n",
      " [546 546 546 546 546]\n",
      " [546 546 546 546 546]\n",
      " [546 546 546 546 546]\n",
      " [546 546 546 546 546]\n",
      " [546 546 546 546 546]\n",
      " [546 546 546 546 546]\n",
      " [546 546 546 546 546]\n",
      " [546 546 546 546 546]\n",
      " [546 546 546 546 546]\n",
      " [546 546 546 546 546]\n",
      " [546 546 546 546 546]\n",
      " [546 546 546 546 546]]\n"
     ]
    }
   ],
   "source": [
    "# Mean of the array\n",
    "mean = array.mean()\n",
    "\n",
    "for i in range(array.shape[0]):  \n",
    "    for j in range(array.shape[1]):  \n",
    "        # Replace elements greater than 75 with the mean\n",
    "        if array[i][j] > 75:\n",
    "            array[i][j] = mean\n",
    "\n",
    "# Print the modified array\n",
    "print(\"\\nArray after replacing:\")\n",
    "print(array)\n"
   ]
  },
  {
   "cell_type": "code",
   "execution_count": 18,
   "metadata": {},
   "outputs": [
    {
     "name": "stdout",
     "output_type": "stream",
     "text": [
      "\n",
      "Mean of the array: 546.0\n",
      "Standard deviation of the array: 0.0\n",
      "Median of the array:  546.0\n",
      "Variance of each column: [0. 0. 0. 0. 0.]\n"
     ]
    }
   ],
   "source": [
    "#mean\n",
    "mean = array.mean()\n",
    "print(\"\\nMean of the array:\", mean)\n",
    "\n",
    "#Standard deviation\n",
    "std_deviation = array.std()\n",
    "print(\"Standard deviation of the array:\", std_deviation)\n",
    "\n",
    "#Median\n",
    "median = np.median(array)\n",
    "print(\"Median of the array: \", median)\n",
    "\n",
    "#Variance for each column\n",
    "variance = array.var(axis=0)\n",
    "print(\"Variance of each column:\",variance)"
   ]
  }
 ],
 "metadata": {
  "kernelspec": {
   "display_name": "base",
   "language": "python",
   "name": "python3"
  },
  "language_info": {
   "codemirror_mode": {
    "name": "ipython",
    "version": 3
   },
   "file_extension": ".py",
   "mimetype": "text/x-python",
   "name": "python",
   "nbconvert_exporter": "python",
   "pygments_lexer": "ipython3",
   "version": "3.12.2"
  }
 },
 "nbformat": 4,
 "nbformat_minor": 2
}
